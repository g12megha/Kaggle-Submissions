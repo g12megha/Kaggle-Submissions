{
 "cells": [
  {
   "cell_type": "code",
   "execution_count": 15,
   "metadata": {
    "collapsed": false
   },
   "outputs": [],
   "source": [
    "import numpy as np\n",
    "import pandas as py\n",
    "import seaborn as sns\n",
    "import matplotlib.pyplot as plt\n",
    "%matplotlib inline\n",
    "from sklearn.linear_model import LogisticRegression\n",
    "from sklearn.cross_validation import train_test_split\n",
    "from sklearn.metrics import confusion_matrix,classification_report\n",
    "from sklearn.grid_search import GridSearchCV\n",
    "from sklearn.preprocessing import StandardScaler"
   ]
  },
  {
   "cell_type": "code",
   "execution_count": 16,
   "metadata": {
    "collapsed": true
   },
   "outputs": [],
   "source": [
    "data = py.read_csv('train (3).csv')\n",
    "testData = py.read_csv('test (2).csv')"
   ]
  },
  {
   "cell_type": "code",
   "execution_count": 17,
   "metadata": {
    "collapsed": true
   },
   "outputs": [],
   "source": [
    "#process Title\n",
    "titleMapping = {\"Capt\":       \"Officer\",\n",
    "                \"Col\":        \"Officer\",\n",
    "                \"Major\":      \"Officer\",\n",
    "                \"Jonkheer\":   \"Royalty\",\n",
    "                \"Don\":        \"Royalty\",\n",
    "                \"Sir\" :       \"Royalty\",\n",
    "                \"Dr\":         \"Officer\",\n",
    "                \"Rev\":        \"Officer\",\n",
    "                \"the Countess\":   \"Royalty\",\n",
    "                \"Don\":       \"Royalty\",\n",
    "                \"Dona\":       \"Royalty\",\n",
    "                \"Mme\":        \"Mrs\",\n",
    "                \"Mlle\":       \"Miss\",\n",
    "                \"Ms\":         \"Mrs\",\n",
    "                \"Mr\" :        \"Mr\",\n",
    "                \"Mrs\" :       \"Mrs\",\n",
    "                \"Miss\" :      \"Miss\",\n",
    "                \"Master\" :    \"Master\",\n",
    "                \"Lady\" :      \"Royalty\"}\n",
    "titlecodeMapping = {\"Mr\" : 0,\"Miss\" : 1, \"Mrs\":2,\"Royalty\" : 3,\"Master\" : 4, \"Officer\" : 5}\n",
    "def processTitle(x):\n",
    "    x['Title'] = x['Name'].str.extract(', ([a-zA-Z\\s]+)\\. ',expand=False).map(titleMapping).map(titlecodeMapping)\n"
   ]
  },
  {
   "cell_type": "code",
   "execution_count": 18,
   "metadata": {
    "collapsed": true
   },
   "outputs": [],
   "source": [
    "#processNameLength\n",
    "def processNameLength(x):\n",
    "    x['nameLen'] = x['Name'].apply(lambda x: len(x))\n",
    "    x['FamilySize'] = x['SibSp'] + x['Parch']+1\n",
    "    x.drop(['SibSp','Parch','Name'],axis=1,inplace=True)"
   ]
  },
  {
   "cell_type": "code",
   "execution_count": 19,
   "metadata": {
    "collapsed": true
   },
   "outputs": [],
   "source": [
    "#processCabin\n",
    "def processCabin(x):\n",
    "    x['Cabin'] = x['Cabin'].fillna('U')\n",
    "    x['Cabin'] = x['Cabin'].apply(lambda x: x[0])\n",
    "    cabin = py.get_dummies(x['Cabin'],drop_first=True)\n",
    "    x.drop(['Cabin'],axis=1,inplace=True)\n",
    "    x = py.concat([x,cabin],axis=1)\n",
    "    if 'T' not in x.columns:\n",
    "        x['T']=py.DataFrame(np.zeros(x.shape[0]))"
   ]
  },
  {
   "cell_type": "code",
   "execution_count": 20,
   "metadata": {
    "collapsed": true
   },
   "outputs": [],
   "source": [
    "#processAge\n",
    "def processMissingAge(x):\n",
    "    if x['Sex'] == 'female' and x['Pclass'] == 1:\n",
    "        if x['Title'] == 1:\n",
    "            return 30\n",
    "        if x['Title'] == 2:\n",
    "            return 40\n",
    "        if x['Title'] == 3:\n",
    "            return 41\n",
    "        if x['Title'] == 5:\n",
    "            return 49\n",
    "    if x['Sex'] == 'female' and x['Pclass'] == 2:\n",
    "        if x['Title'] == 1:\n",
    "            return 24\n",
    "        if x['Title'] == 2:\n",
    "            return 32\n",
    "    if x['Sex'] == 'female' and x['Pclass'] == 3:\n",
    "         if x['Title'] == 1:\n",
    "            return 18\n",
    "         if x['Title'] == 2:\n",
    "            return 31\n",
    "    if x['Sex'] == 'male' and x['Pclass'] == 1:\n",
    "        if x['Title'] == 0:\n",
    "            return 40\n",
    "        if x['Title'] == 3:\n",
    "            return 40\n",
    "        if x['Title'] == 4:\n",
    "            return 4\n",
    "        if x['Title'] == 5:\n",
    "            return 51\n",
    "    if x['Sex'] == 'male' and x['Pclass'] == 2:\n",
    "        if x['Title'] == 0:\n",
    "            return 31\n",
    "        if x['Title'] == 4:\n",
    "            return 1\n",
    "        if x['Title'] == 5:\n",
    "            return 47\n",
    "    if x['Sex'] == 'male' and x['Pclass'] == 3:\n",
    "        if x['Title'] == 0:\n",
    "            return 26\n",
    "        if x['Title'] == 4:\n",
    "            return 4\n",
    "def processAge(y):\n",
    "    y['Age'] = y.apply(lambda x : processMissingAge(x) if np.isnan(x['Age']) else x['Age'],axis=1)"
   ]
  },
  {
   "cell_type": "code",
   "execution_count": 21,
   "metadata": {
    "collapsed": true
   },
   "outputs": [],
   "source": [
    "#procesSex\n",
    "def processSex(y):\n",
    "    sex = py.get_dummies(y['Sex'],drop_first=True)\n",
    "    y['Embarked'].fillna('S',inplace=True)\n",
    "    embark = py.get_dummies(y['Embarked'],drop_first=True)\n",
    "    y.drop(['Embarked','Sex'],axis=1,inplace=True)\n",
    "    y = py.concat([y,embark,sex],axis=1)"
   ]
  },
  {
   "cell_type": "code",
   "execution_count": 22,
   "metadata": {
    "collapsed": true
   },
   "outputs": [],
   "source": [
    "#processTicket\n",
    "def processTicket(y):\n",
    "    y.drop(['Ticket'],axis=1,inplace=True)"
   ]
  },
  {
   "cell_type": "code",
   "execution_count": 23,
   "metadata": {
    "collapsed": true
   },
   "outputs": [],
   "source": [
    "#process Fare\n",
    "def processFare(y):\n",
    "    y['Fare'] = y['Fare'].fillna(y['Fare'].mean())"
   ]
  },
  {
   "cell_type": "code",
   "execution_count": 24,
   "metadata": {
    "collapsed": false
   },
   "outputs": [],
   "source": [
    "#Do scaling on Age and fare\n",
    "scale = StandardScaler()\n",
    "def scaleAgeFare(y):\n",
    "    std_scale = scale.fit(y[['Fare','Age']])\n",
    "    y[['Fare','Age']] = scale.transform(y[['Fare','Age']])"
   ]
  },
  {
   "cell_type": "code",
   "execution_count": null,
   "metadata": {
    "collapsed": true
   },
   "outputs": [],
   "source": [
    "X_train, X_test, y_train, y_test = train_test_split(data.drop('Survived',axis=1), data['Survived'], test_size=0.33, random_state=50)"
   ]
  },
  {
   "cell_type": "code",
   "execution_count": 25,
   "metadata": {
    "collapsed": true
   },
   "outputs": [],
   "source": [
    "from sklearn.pipeline import Pipeline"
   ]
  },
  {
   "cell_type": "code",
   "execution_count": 28,
   "metadata": {
    "collapsed": false
   },
   "outputs": [
    {
     "ename": "TypeError",
     "evalue": "processTitle() missing 1 required positional argument: 'x'",
     "output_type": "error",
     "traceback": [
      "\u001b[0;31m---------------------------------------------------------------------------\u001b[0m",
      "\u001b[0;31mTypeError\u001b[0m                                 Traceback (most recent call last)",
      "\u001b[0;32m<ipython-input-28-f8759ce85508>\u001b[0m in \u001b[0;36m<module>\u001b[0;34m()\u001b[0m\n\u001b[0;32m----> 1\u001b[0;31m \u001b[0mpipeline\u001b[0m \u001b[1;33m=\u001b[0m \u001b[0mPipeline\u001b[0m\u001b[1;33m(\u001b[0m\u001b[1;33m[\u001b[0m\u001b[1;33m(\u001b[0m\u001b[1;34m'title'\u001b[0m\u001b[1;33m,\u001b[0m\u001b[0mprocessTitle\u001b[0m\u001b[1;33m(\u001b[0m\u001b[1;33m)\u001b[0m\u001b[1;33m)\u001b[0m\u001b[1;33m,\u001b[0m\u001b[1;33m(\u001b[0m\u001b[1;34m'NameLen'\u001b[0m\u001b[1;33m,\u001b[0m\u001b[0mprocessNameLength\u001b[0m\u001b[1;33m(\u001b[0m\u001b[1;33m)\u001b[0m\u001b[1;33m)\u001b[0m\u001b[1;33m,\u001b[0m\u001b[1;33m(\u001b[0m\u001b[1;34m'Age'\u001b[0m\u001b[1;33m,\u001b[0m\u001b[0mprocessAge\u001b[0m\u001b[1;33m(\u001b[0m\u001b[1;33m)\u001b[0m\u001b[1;33m)\u001b[0m\u001b[1;33m,\u001b[0m\u001b[1;33m(\u001b[0m\u001b[1;34m'Sex'\u001b[0m\u001b[1;33m,\u001b[0m\u001b[0mprocessSex\u001b[0m\u001b[1;33m(\u001b[0m\u001b[1;33m)\u001b[0m\u001b[1;33m)\u001b[0m\u001b[1;33m,\u001b[0m\u001b[1;33m(\u001b[0m\u001b[1;34m'Ticket'\u001b[0m\u001b[1;33m,\u001b[0m\u001b[0mprocessTicket\u001b[0m\u001b[1;33m(\u001b[0m\u001b[1;33m)\u001b[0m\u001b[1;33m)\u001b[0m\u001b[1;33m,\u001b[0m\u001b[1;33m(\u001b[0m\u001b[1;34m'Fare'\u001b[0m\u001b[1;33m,\u001b[0m\u001b[0mprocessFare\u001b[0m\u001b[1;33m(\u001b[0m\u001b[1;33m)\u001b[0m\u001b[1;33m)\u001b[0m\u001b[1;33m,\u001b[0m\u001b[1;33m(\u001b[0m\u001b[1;34m'scale'\u001b[0m\u001b[1;33m,\u001b[0m\u001b[0mscaleAgeFare\u001b[0m\u001b[1;33m(\u001b[0m\u001b[1;33m)\u001b[0m\u001b[1;33m)\u001b[0m\u001b[1;33m]\u001b[0m\u001b[1;33m)\u001b[0m\u001b[1;33m\u001b[0m\u001b[0m\n\u001b[0m",
      "\u001b[0;31mTypeError\u001b[0m: processTitle() missing 1 required positional argument: 'x'"
     ]
    }
   ],
   "source": [
    "pipeline = Pipeline([('title',processTitle()),('NameLen',processNameLength()),('Age',processAge()),('Sex',processSex()),('Ticket',processTicket()),('Fare',processFare()),('scale',scaleAgeFare())])"
   ]
  },
  {
   "cell_type": "code",
   "execution_count": null,
   "metadata": {
    "collapsed": true
   },
   "outputs": [],
   "source": []
  }
 ],
 "metadata": {
  "kernelspec": {
   "display_name": "Python 3",
   "language": "python",
   "name": "python3"
  },
  "language_info": {
   "codemirror_mode": {
    "name": "ipython",
    "version": 3
   },
   "file_extension": ".py",
   "mimetype": "text/x-python",
   "name": "python",
   "nbconvert_exporter": "python",
   "pygments_lexer": "ipython3",
   "version": "3.6.0"
  }
 },
 "nbformat": 4,
 "nbformat_minor": 2
}

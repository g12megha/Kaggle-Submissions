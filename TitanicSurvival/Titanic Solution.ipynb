{
 "cells": [
  {
   "cell_type": "code",
   "execution_count": 502,
   "metadata": {
    "collapsed": true
   },
   "outputs": [],
   "source": [
    "import numpy as np\n",
    "import pandas as py\n",
    "import seaborn as sns\n",
    "import matplotlib.pyplot as plt\n",
    "%matplotlib inline\n",
    "data = py.read_csv('train (3).csv')\n",
    "testData = py.read_csv('test (2).csv')"
   ]
  },
  {
   "cell_type": "code",
   "execution_count": null,
   "metadata": {
    "collapsed": false
   },
   "outputs": [],
   "source": []
  },
  {
   "cell_type": "code",
   "execution_count": 503,
   "metadata": {
    "collapsed": false
   },
   "outputs": [
    {
     "data": {
      "text/plain": [
       "0            A/5 21171\n",
       "1             PC 17599\n",
       "2     STON/O2. 3101282\n",
       "3               113803\n",
       "4               373450\n",
       "5               330877\n",
       "6                17463\n",
       "7               349909\n",
       "8               347742\n",
       "9               237736\n",
       "10             PP 9549\n",
       "11              113783\n",
       "12           A/5. 2151\n",
       "13              347082\n",
       "14              350406\n",
       "15              248706\n",
       "16              382652\n",
       "17              244373\n",
       "18              345763\n",
       "19                2649\n",
       "20              239865\n",
       "21              248698\n",
       "22              330923\n",
       "23              113788\n",
       "24              349909\n",
       "25              347077\n",
       "26                2631\n",
       "27               19950\n",
       "28              330959\n",
       "29              349216\n",
       "            ...       \n",
       "70          C.A. 33111\n",
       "71             CA 2144\n",
       "72        S.O.C. 14879\n",
       "73                2680\n",
       "74                1601\n",
       "75              348123\n",
       "76              349208\n",
       "77              374746\n",
       "78              248738\n",
       "79              364516\n",
       "80              345767\n",
       "81              345779\n",
       "82              330932\n",
       "83              113059\n",
       "84          SO/C 14885\n",
       "85             3101278\n",
       "86          W./C. 6608\n",
       "87     SOTON/OQ 392086\n",
       "88               19950\n",
       "89              343275\n",
       "90              343276\n",
       "91              347466\n",
       "92         W.E.P. 5734\n",
       "93           C.A. 2315\n",
       "94              364500\n",
       "95              374910\n",
       "96            PC 17754\n",
       "97            PC 17759\n",
       "98              231919\n",
       "99              244367\n",
       "Name: Ticket, dtype: object"
      ]
     },
     "execution_count": 503,
     "metadata": {},
     "output_type": "execute_result"
    }
   ],
   "source": [
    "data.isnull().sum()\n",
    "data.head()\n",
    "data['Ticket'].head(100)"
   ]
  },
  {
   "cell_type": "code",
   "execution_count": 504,
   "metadata": {
    "collapsed": false
   },
   "outputs": [
    {
     "data": {
      "text/plain": [
       "PassengerId      0\n",
       "Survived         0\n",
       "Pclass           0\n",
       "Name             0\n",
       "Sex              0\n",
       "Age            177\n",
       "SibSp            0\n",
       "Parch            0\n",
       "Ticket           0\n",
       "Fare             0\n",
       "Cabin          687\n",
       "Embarked         2\n",
       "dtype: int64"
      ]
     },
     "execution_count": 504,
     "metadata": {},
     "output_type": "execute_result"
    }
   ],
   "source": [
    "data.isnull().sum()"
   ]
  },
  {
   "cell_type": "code",
   "execution_count": 505,
   "metadata": {
    "collapsed": false,
    "scrolled": true
   },
   "outputs": [
    {
     "data": {
      "text/plain": [
       "Mr              517\n",
       "Miss            182\n",
       "Mrs             125\n",
       "Master           40\n",
       "Dr                7\n",
       "Rev               6\n",
       "Major             2\n",
       "Mlle              2\n",
       "Col               2\n",
       "Ms                1\n",
       "Mme               1\n",
       "Don               1\n",
       "Jonkheer          1\n",
       "Capt              1\n",
       "Lady              1\n",
       "Sir               1\n",
       "the Countess      1\n",
       "Name: Name, dtype: int64"
      ]
     },
     "execution_count": 505,
     "metadata": {},
     "output_type": "execute_result"
    }
   ],
   "source": [
    "data['Name'].str.extract(', ([a-zA-Z\\s]+)\\.',expand=False).value_counts()"
   ]
  },
  {
   "cell_type": "code",
   "execution_count": 506,
   "metadata": {
    "collapsed": false
   },
   "outputs": [
    {
     "data": {
      "text/plain": [
       "<matplotlib.axes._subplots.AxesSubplot at 0x1b3022f1da0>"
      ]
     },
     "execution_count": 506,
     "metadata": {},
     "output_type": "execute_result"
    },
    {
     "data": {
      "image/png": "[encoded data removed]",
      "text/plain": [
       "<matplotlib.figure.Figure at 0x1b3023818d0>"
      ]
     },
     "metadata": {},
     "output_type": "display_data"
    }
   ],
   "source": [
    "titleMapping = {\"Capt\":       \"Officer\",\n",
    "                \"Col\":        \"Officer\",\n",
    "                \"Major\":      \"Officer\",\n",
    "                \"Jonkheer\":   \"Royalty\",\n",
    "                \"Don\":        \"Royalty\",\n",
    "                \"Sir\" :       \"Royalty\",\n",
    "                \"Dr\":         \"Officer\",\n",
    "                \"Rev\":        \"Officer\",\n",
    "                \"the Countess\":   \"Royalty\",\n",
    "                \"Don\":       \"Royalty\",\n",
    "                \"Dona\":       \"Royalty\",\n",
    "                \"Mme\":        \"Mrs\",\n",
    "                \"Mlle\":       \"Miss\",\n",
    "                \"Ms\":         \"Mrs\",\n",
    "                \"Mr\" :        \"Mr\",\n",
    "                \"Mrs\" :       \"Mrs\",\n",
    "                \"Miss\" :      \"Miss\",\n",
    "                \"Master\" :    \"Master\",\n",
    "                \"Lady\" :      \"Royalty\"}\n",
    "titlecodeMapping = {\"Mr\" : 0,\"Miss\" : 1, \"Mrs\":2,\"Royalty\" : 3,\"Master\" : 4, \"Officer\" : 5}\n",
    "sns.countplot(CheckTitle,hue=data['Survived'])"
   ]
  },
  {
   "cell_type": "code",
   "execution_count": 507,
   "metadata": {
    "collapsed": false
   },
   "outputs": [
    {
     "name": "stdout",
     "output_type": "stream",
     "text": [
      "     PassengerId  Survived  Pclass  \\\n",
      "759          760         1       1   \n",
      "\n",
      "                                                  Name     Sex   Age  SibSp  \\\n",
      "759  Rothes, the Countess. of (Lucy Noel Martha Dye...  female  33.0      0   \n",
      "\n",
      "     Parch  Ticket  Fare Cabin Embarked  Title  \n",
      "759      0  110152  86.5   B77        S      3  \n"
     ]
    }
   ],
   "source": [
    "#Modify the title first\n",
    "data['Title'] =  data['Name'].str.extract(', ([a-zA-Z\\s]+)\\. ',expand=False).map(titleMapping).map(titlecodeMapping)\n",
    "#data['Title'] =  data['Name'].str.extract(', ([a-zA-Z\\s]+)\\. ',expand=False)\n",
    "#data['Title'].value_counts()\n",
    "#title = py.get_dummies(data['Title'],drop_first=True)\n",
    "#data = py.concat([data,title],axis=1)\n",
    "#data.drop(['Title'],axis=1,inplace=True)\n",
    "testData['Title'] = testData['Name'].str.extract(', ([a-zA-Z\\s]+)\\. ',expand=False).map(titleMapping).map(titlecodeMapping)\n",
    "#titletest=py.get_dummies(testData['Title'],drop_first=True)\n",
    "#testData = py.concat([testData,titletest],axis=1)\n",
    "#testData.drop(['Title'],axis=1,inplace=True)\n",
    "data.isnull().sum()\n",
    "for index, row in testData.iterrows():\n",
    "    if np.isnan(row['Title']):\n",
    "        print(row)\n",
    "        x = row['Name']\n",
    "        #x = row['Name'].extract(', ([a-zA-Z]+)\\. ',expand=False)\n",
    "        #print(x)\n",
    "        \n"
   ]
  },
  {
   "cell_type": "code",
   "execution_count": 508,
   "metadata": {
    "collapsed": false
   },
   "outputs": [],
   "source": [
    "#process nameLength\n",
    "data['nameLen'] = data['Name'].apply(lambda x: len(x))\n",
    "data['FamilySize'] = data['SibSp'] + data['Parch']+1\n",
    "data.drop(['SibSp','Parch','Name'],axis=1,inplace=True)\n",
    "#process nameLength for testData\n",
    "testData['nameLen'] = testData['Name'].apply(lambda x: len(x))\n",
    "testData['FamilySize'] = testData['SibSp'] + testData['Parch']+1\n",
    "testData.drop(['SibSp','Parch','Name'],axis=1,inplace=True)\n"
   ]
  },
  {
   "cell_type": "code",
   "execution_count": 509,
   "metadata": {
    "collapsed": false
   },
   "outputs": [],
   "source": [
    "#process Cabin\n",
    "data['Cabin'] = data['Cabin'].fillna('U')\n",
    "data['Cabin'] = data['Cabin'].apply(lambda x: x[0])\n",
    "cabin = py.get_dummies(data['Cabin'],drop_first=True)\n",
    "data.drop(['Cabin'],axis=1,inplace=True)\n",
    "data = py.concat([data,cabin],axis=1)\n",
    "data.isnull().sum()\n",
    "#process cabin for test data\n",
    "testData['Cabin'] = testData['Cabin'].fillna('U')\n",
    "testData['Cabin'] = testData['Cabin'].apply(lambda x: x[0])\n",
    "cabin = py.get_dummies(testData['Cabin'],drop_first=True)\n",
    "testData.isnull().sum()\n",
    "testData.drop(['Cabin'],axis=1,inplace=True)\n",
    "testData = py.concat([testData,cabin],axis=1)\n",
    "testData['T']=py.DataFrame(np.zeros(testData.shape[0]))"
   ]
  },
  {
   "cell_type": "code",
   "execution_count": 510,
   "metadata": {
    "collapsed": false
   },
   "outputs": [
    {
     "data": {
      "text/plain": [
       "Sex     Pclass  Title\n",
       "female  1       1        30.0\n",
       "                2        40.0\n",
       "                3        40.5\n",
       "                5        49.0\n",
       "        2       1        24.0\n",
       "                2        31.5\n",
       "        3       1        18.0\n",
       "                2        31.0\n",
       "male    1       0        40.0\n",
       "                3        40.0\n",
       "                4         4.0\n",
       "                5        51.0\n",
       "        2       0        31.0\n",
       "                4         1.0\n",
       "                5        46.5\n",
       "        3       0        26.0\n",
       "                4         4.0\n",
       "Name: Age, dtype: float64"
      ]
     },
     "execution_count": 510,
     "metadata": {},
     "output_type": "execute_result"
    }
   ],
   "source": [
    "data.groupby(['Sex','Pclass','Title'])['Age'].median()"
   ]
  },
  {
   "cell_type": "code",
   "execution_count": 511,
   "metadata": {
    "collapsed": false
   },
   "outputs": [
    {
     "data": {
      "text/plain": [
       "PassengerId    0\n",
       "Pclass         0\n",
       "Sex            0\n",
       "Age            0\n",
       "Ticket         0\n",
       "Fare           1\n",
       "Embarked       0\n",
       "Title          0\n",
       "nameLen        0\n",
       "FamilySize     0\n",
       "B              0\n",
       "C              0\n",
       "D              0\n",
       "E              0\n",
       "F              0\n",
       "G              0\n",
       "U              0\n",
       "T              0\n",
       "dtype: int64"
      ]
     },
     "execution_count": 511,
     "metadata": {},
     "output_type": "execute_result"
    }
   ],
   "source": [
    "#process age with Pclass, Sex,Title params\n",
    "def processAge(x):\n",
    "    if x['Sex'] == 'female' and x['Pclass'] == 1:\n",
    "        if x['Title'] == 1:\n",
    "            return 30\n",
    "        if x['Title'] == 2:\n",
    "            return 40\n",
    "        if x['Title'] == 3:\n",
    "            return 41\n",
    "        if x['Title'] == 5:\n",
    "            return 49\n",
    "    if x['Sex'] == 'female' and x['Pclass'] == 2:\n",
    "        if x['Title'] == 1:\n",
    "            return 24\n",
    "        if x['Title'] == 2:\n",
    "            return 32\n",
    "    if x['Sex'] == 'female' and x['Pclass'] == 3:\n",
    "         if x['Title'] == 1:\n",
    "            return 18\n",
    "         if x['Title'] == 2:\n",
    "            return 31\n",
    "    if x['Sex'] == 'male' and x['Pclass'] == 1:\n",
    "        if x['Title'] == 0:\n",
    "            return 40\n",
    "        if x['Title'] == 3:\n",
    "            return 40\n",
    "        if x['Title'] == 4:\n",
    "            return 4\n",
    "        if x['Title'] == 5:\n",
    "            return 51\n",
    "    if x['Sex'] == 'male' and x['Pclass'] == 2:\n",
    "        if x['Title'] == 0:\n",
    "            return 31\n",
    "        if x['Title'] == 4:\n",
    "            return 1\n",
    "        if x['Title'] == 5:\n",
    "            return 47\n",
    "    if x['Sex'] == 'male' and x['Pclass'] == 3:\n",
    "        if x['Title'] == 0:\n",
    "            return 26\n",
    "        if x['Title'] == 4:\n",
    "            return 4\n",
    "data['Age'] = data.apply(lambda x : processAge(x) if np.isnan(x['Age']) else x['Age'],axis=1)\n",
    "#processAge\n",
    "#data['Age'] = data['Age'].fillna(data['Age'].mean())\n",
    "#data.isnull().sum()\n",
    "#processAge\n",
    "#testData['Age'] = testData['Age'].fillna(testData['Age'].mean())\n",
    "testData['Age'] = testData.apply(lambda x : processAge(x) if np.isnan(x['Age']) else x['Age'],axis=1)\n",
    "testData.isnull().sum()"
   ]
  },
  {
   "cell_type": "code",
   "execution_count": 512,
   "metadata": {
    "collapsed": false
   },
   "outputs": [
    {
     "data": {
      "text/plain": [
       "Sex     Pclass  Title\n",
       "female  1       1        29.750000\n",
       "                2        40.325581\n",
       "                3        40.500000\n",
       "                5        49.000000\n",
       "        2       1        22.485294\n",
       "                2        33.547619\n",
       "        3       1        16.730392\n",
       "                2        32.976190\n",
       "male    1       0        41.285047\n",
       "                3        42.333333\n",
       "                4         5.306667\n",
       "                5        51.111111\n",
       "        2       0        32.593407\n",
       "                4         2.258889\n",
       "                5        42.000000\n",
       "        3       0        27.956113\n",
       "                4         5.157857\n",
       "Name: Age, dtype: float64"
      ]
     },
     "execution_count": 512,
     "metadata": {},
     "output_type": "execute_result"
    }
   ],
   "source": [
    "data.groupby(['Sex','Pclass','Title'])['Age'].mean()"
   ]
  },
  {
   "cell_type": "code",
   "execution_count": 513,
   "metadata": {
    "collapsed": false
   },
   "outputs": [],
   "source": [
    "#process sex\n",
    "sex = py.get_dummies(data['Sex'],drop_first=True)\n",
    "data['Embarked'].fillna('S',inplace=True)\n",
    "embark = py.get_dummies(data['Embarked'],drop_first=True)\n",
    "data.drop(['Embarked','Sex'],axis=1,inplace=True)\n",
    "data = py.concat([data,embark,sex],axis=1)\n",
    "\n",
    "#process sex for test data\n",
    "sextest = py.get_dummies(testData['Sex'],drop_first=True)\n",
    "testData['Embarked'].fillna('S',inplace=True)\n",
    "embarktest = py.get_dummies(testData['Embarked'],drop_first=True)\n",
    "testData.drop(['Embarked','Sex'],axis=1,inplace=True)\n",
    "testData = py.concat([testData,embarktest,sextest],axis=1)"
   ]
  },
  {
   "cell_type": "code",
   "execution_count": null,
   "metadata": {
    "collapsed": true
   },
   "outputs": [],
   "source": []
  },
  {
   "cell_type": "code",
   "execution_count": 514,
   "metadata": {
    "collapsed": false
   },
   "outputs": [],
   "source": [
    "#drop ticket for now\n",
    "testData.drop(['Ticket'],axis=1,inplace=True)\n",
    "data.drop(['Ticket'],axis=1,inplace=True)"
   ]
  },
  {
   "cell_type": "code",
   "execution_count": null,
   "metadata": {
    "collapsed": false
   },
   "outputs": [],
   "source": []
  },
  {
   "cell_type": "code",
   "execution_count": null,
   "metadata": {
    "collapsed": false
   },
   "outputs": [],
   "source": []
  },
  {
   "cell_type": "code",
   "execution_count": 515,
   "metadata": {
    "collapsed": false
   },
   "outputs": [],
   "source": [
    "#processFare\n",
    "data['Fare'] = data['Fare'].fillna(data['Fare'].mean())\n",
    "testData['Fare'] = testData['Fare'].fillna(testData['Fare'].mean())"
   ]
  },
  {
   "cell_type": "code",
   "execution_count": 516,
   "metadata": {
    "collapsed": false
   },
   "outputs": [],
   "source": [
    "from sklearn.preprocessing import StandardScaler\n",
    "scale = StandardScaler()\n",
    "std_scale = scale.fit(data[['Fare','Age']])\n",
    "data[['Fare','Age']] = scale.transform(data[['Fare','Age']])\n",
    "std_scale = scale.fit(testData[['Fare','Age']])\n",
    "testData[['Fare','Age']] = scale.transform(testData[['Fare','Age']])"
   ]
  },
  {
   "cell_type": "code",
   "execution_count": 517,
   "metadata": {
    "collapsed": false
   },
   "outputs": [
    {
     "data": {
      "text/html": [
       "<div>\n",
       "<table border=\"1\" class=\"dataframe\">\n",
       "  <thead>\n",
       "    <tr style=\"text-align: right;\">\n",
       "      <th></th>\n",
       "      <th>PassengerId</th>\n",
       "      <th>Survived</th>\n",
       "      <th>Pclass</th>\n",
       "      <th>Age</th>\n",
       "      <th>Fare</th>\n",
       "      <th>Title</th>\n",
       "      <th>nameLen</th>\n",
       "      <th>FamilySize</th>\n",
       "      <th>B</th>\n",
       "      <th>C</th>\n",
       "      <th>D</th>\n",
       "      <th>E</th>\n",
       "      <th>F</th>\n",
       "      <th>G</th>\n",
       "      <th>T</th>\n",
       "      <th>U</th>\n",
       "      <th>Q</th>\n",
       "      <th>S</th>\n",
       "      <th>male</th>\n",
       "    </tr>\n",
       "  </thead>\n",
       "  <tbody>\n",
       "    <tr>\n",
       "      <th>0</th>\n",
       "      <td>1</td>\n",
       "      <td>0</td>\n",
       "      <td>3</td>\n",
       "      <td>-0.529244</td>\n",
       "      <td>-0.502445</td>\n",
       "      <td>0</td>\n",
       "      <td>23</td>\n",
       "      <td>2</td>\n",
       "      <td>0</td>\n",
       "      <td>0</td>\n",
       "      <td>0</td>\n",
       "      <td>0</td>\n",
       "      <td>0</td>\n",
       "      <td>0</td>\n",
       "      <td>0</td>\n",
       "      <td>1</td>\n",
       "      <td>0</td>\n",
       "      <td>1</td>\n",
       "      <td>1</td>\n",
       "    </tr>\n",
       "    <tr>\n",
       "      <th>1</th>\n",
       "      <td>2</td>\n",
       "      <td>1</td>\n",
       "      <td>1</td>\n",
       "      <td>0.657030</td>\n",
       "      <td>0.786845</td>\n",
       "      <td>2</td>\n",
       "      <td>51</td>\n",
       "      <td>2</td>\n",
       "      <td>0</td>\n",
       "      <td>1</td>\n",
       "      <td>0</td>\n",
       "      <td>0</td>\n",
       "      <td>0</td>\n",
       "      <td>0</td>\n",
       "      <td>0</td>\n",
       "      <td>0</td>\n",
       "      <td>0</td>\n",
       "      <td>0</td>\n",
       "      <td>0</td>\n",
       "    </tr>\n",
       "    <tr>\n",
       "      <th>2</th>\n",
       "      <td>3</td>\n",
       "      <td>1</td>\n",
       "      <td>3</td>\n",
       "      <td>-0.232676</td>\n",
       "      <td>-0.488854</td>\n",
       "      <td>1</td>\n",
       "      <td>22</td>\n",
       "      <td>1</td>\n",
       "      <td>0</td>\n",
       "      <td>0</td>\n",
       "      <td>0</td>\n",
       "      <td>0</td>\n",
       "      <td>0</td>\n",
       "      <td>0</td>\n",
       "      <td>0</td>\n",
       "      <td>1</td>\n",
       "      <td>0</td>\n",
       "      <td>1</td>\n",
       "      <td>0</td>\n",
       "    </tr>\n",
       "    <tr>\n",
       "      <th>3</th>\n",
       "      <td>4</td>\n",
       "      <td>1</td>\n",
       "      <td>1</td>\n",
       "      <td>0.434604</td>\n",
       "      <td>0.420730</td>\n",
       "      <td>2</td>\n",
       "      <td>44</td>\n",
       "      <td>2</td>\n",
       "      <td>0</td>\n",
       "      <td>1</td>\n",
       "      <td>0</td>\n",
       "      <td>0</td>\n",
       "      <td>0</td>\n",
       "      <td>0</td>\n",
       "      <td>0</td>\n",
       "      <td>0</td>\n",
       "      <td>0</td>\n",
       "      <td>1</td>\n",
       "      <td>0</td>\n",
       "    </tr>\n",
       "    <tr>\n",
       "      <th>4</th>\n",
       "      <td>5</td>\n",
       "      <td>0</td>\n",
       "      <td>3</td>\n",
       "      <td>0.434604</td>\n",
       "      <td>-0.486337</td>\n",
       "      <td>0</td>\n",
       "      <td>24</td>\n",
       "      <td>1</td>\n",
       "      <td>0</td>\n",
       "      <td>0</td>\n",
       "      <td>0</td>\n",
       "      <td>0</td>\n",
       "      <td>0</td>\n",
       "      <td>0</td>\n",
       "      <td>0</td>\n",
       "      <td>1</td>\n",
       "      <td>0</td>\n",
       "      <td>1</td>\n",
       "      <td>1</td>\n",
       "    </tr>\n",
       "  </tbody>\n",
       "</table>\n",
       "</div>"
      ],
      "text/plain": [
       "   PassengerId  Survived  Pclass       Age      Fare  Title  nameLen  \\\n",
       "0            1         0       3 -0.529244 -0.502445      0       23   \n",
       "1            2         1       1  0.657030  0.786845      2       51   \n",
       "2            3         1       3 -0.232676 -0.488854      1       22   \n",
       "3            4         1       1  0.434604  0.420730      2       44   \n",
       "4            5         0       3  0.434604 -0.486337      0       24   \n",
       "\n",
       "   FamilySize  B  C  D  E  F  G  T  U  Q  S  male  \n",
       "0           2  0  0  0  0  0  0  0  1  0  1     1  \n",
       "1           2  0  1  0  0  0  0  0  0  0  0     0  \n",
       "2           1  0  0  0  0  0  0  0  1  0  1     0  \n",
       "3           2  0  1  0  0  0  0  0  0  0  1     0  \n",
       "4           1  0  0  0  0  0  0  0  1  0  1     1  "
      ]
     },
     "execution_count": 517,
     "metadata": {},
     "output_type": "execute_result"
    }
   ],
   "source": [
    "data.head()"
   ]
  },
  {
   "cell_type": "code",
   "execution_count": 518,
   "metadata": {
    "collapsed": false
   },
   "outputs": [
    {
     "data": {
      "text/plain": [
       "PassengerId    0\n",
       "Survived       0\n",
       "Pclass         0\n",
       "Age            0\n",
       "Fare           0\n",
       "Title          0\n",
       "nameLen        0\n",
       "FamilySize     0\n",
       "B              0\n",
       "C              0\n",
       "D              0\n",
       "E              0\n",
       "F              0\n",
       "G              0\n",
       "T              0\n",
       "U              0\n",
       "Q              0\n",
       "S              0\n",
       "male           0\n",
       "dtype: int64"
      ]
     },
     "execution_count": 518,
     "metadata": {},
     "output_type": "execute_result"
    }
   ],
   "source": [
    "data.isnull().sum()"
   ]
  },
  {
   "cell_type": "code",
   "execution_count": 519,
   "metadata": {
    "collapsed": false
   },
   "outputs": [
    {
     "data": {
      "text/html": [
       "<div>\n",
       "<table border=\"1\" class=\"dataframe\">\n",
       "  <thead>\n",
       "    <tr style=\"text-align: right;\">\n",
       "      <th></th>\n",
       "      <th>PassengerId</th>\n",
       "      <th>Pclass</th>\n",
       "      <th>Age</th>\n",
       "      <th>Fare</th>\n",
       "      <th>Title</th>\n",
       "      <th>nameLen</th>\n",
       "      <th>FamilySize</th>\n",
       "      <th>B</th>\n",
       "      <th>C</th>\n",
       "      <th>D</th>\n",
       "      <th>E</th>\n",
       "      <th>F</th>\n",
       "      <th>G</th>\n",
       "      <th>U</th>\n",
       "      <th>T</th>\n",
       "      <th>Q</th>\n",
       "      <th>S</th>\n",
       "      <th>male</th>\n",
       "    </tr>\n",
       "  </thead>\n",
       "  <tbody>\n",
       "    <tr>\n",
       "      <th>0</th>\n",
       "      <td>892</td>\n",
       "      <td>3</td>\n",
       "      <td>0.388391</td>\n",
       "      <td>-0.498407</td>\n",
       "      <td>0</td>\n",
       "      <td>16</td>\n",
       "      <td>1</td>\n",
       "      <td>0</td>\n",
       "      <td>0</td>\n",
       "      <td>0</td>\n",
       "      <td>0</td>\n",
       "      <td>0</td>\n",
       "      <td>0</td>\n",
       "      <td>1</td>\n",
       "      <td>0.0</td>\n",
       "      <td>1</td>\n",
       "      <td>0</td>\n",
       "      <td>1</td>\n",
       "    </tr>\n",
       "    <tr>\n",
       "      <th>1</th>\n",
       "      <td>893</td>\n",
       "      <td>3</td>\n",
       "      <td>1.335575</td>\n",
       "      <td>-0.513274</td>\n",
       "      <td>2</td>\n",
       "      <td>32</td>\n",
       "      <td>2</td>\n",
       "      <td>0</td>\n",
       "      <td>0</td>\n",
       "      <td>0</td>\n",
       "      <td>0</td>\n",
       "      <td>0</td>\n",
       "      <td>0</td>\n",
       "      <td>1</td>\n",
       "      <td>0.0</td>\n",
       "      <td>0</td>\n",
       "      <td>1</td>\n",
       "      <td>0</td>\n",
       "    </tr>\n",
       "    <tr>\n",
       "      <th>2</th>\n",
       "      <td>894</td>\n",
       "      <td>2</td>\n",
       "      <td>2.472195</td>\n",
       "      <td>-0.465088</td>\n",
       "      <td>0</td>\n",
       "      <td>25</td>\n",
       "      <td>1</td>\n",
       "      <td>0</td>\n",
       "      <td>0</td>\n",
       "      <td>0</td>\n",
       "      <td>0</td>\n",
       "      <td>0</td>\n",
       "      <td>0</td>\n",
       "      <td>1</td>\n",
       "      <td>0.0</td>\n",
       "      <td>1</td>\n",
       "      <td>0</td>\n",
       "      <td>1</td>\n",
       "    </tr>\n",
       "    <tr>\n",
       "      <th>3</th>\n",
       "      <td>895</td>\n",
       "      <td>3</td>\n",
       "      <td>-0.179920</td>\n",
       "      <td>-0.483466</td>\n",
       "      <td>0</td>\n",
       "      <td>16</td>\n",
       "      <td>1</td>\n",
       "      <td>0</td>\n",
       "      <td>0</td>\n",
       "      <td>0</td>\n",
       "      <td>0</td>\n",
       "      <td>0</td>\n",
       "      <td>0</td>\n",
       "      <td>1</td>\n",
       "      <td>0.0</td>\n",
       "      <td>0</td>\n",
       "      <td>1</td>\n",
       "      <td>1</td>\n",
       "    </tr>\n",
       "    <tr>\n",
       "      <th>4</th>\n",
       "      <td>896</td>\n",
       "      <td>3</td>\n",
       "      <td>-0.558793</td>\n",
       "      <td>-0.418471</td>\n",
       "      <td>2</td>\n",
       "      <td>44</td>\n",
       "      <td>3</td>\n",
       "      <td>0</td>\n",
       "      <td>0</td>\n",
       "      <td>0</td>\n",
       "      <td>0</td>\n",
       "      <td>0</td>\n",
       "      <td>0</td>\n",
       "      <td>1</td>\n",
       "      <td>0.0</td>\n",
       "      <td>0</td>\n",
       "      <td>1</td>\n",
       "      <td>0</td>\n",
       "    </tr>\n",
       "  </tbody>\n",
       "</table>\n",
       "</div>"
      ],
      "text/plain": [
       "   PassengerId  Pclass       Age      Fare  Title  nameLen  FamilySize  B  C  \\\n",
       "0          892       3  0.388391 -0.498407      0       16           1  0  0   \n",
       "1          893       3  1.335575 -0.513274      2       32           2  0  0   \n",
       "2          894       2  2.472195 -0.465088      0       25           1  0  0   \n",
       "3          895       3 -0.179920 -0.483466      0       16           1  0  0   \n",
       "4          896       3 -0.558793 -0.418471      2       44           3  0  0   \n",
       "\n",
       "   D  E  F  G  U    T  Q  S  male  \n",
       "0  0  0  0  0  1  0.0  1  0     1  \n",
       "1  0  0  0  0  1  0.0  0  1     0  \n",
       "2  0  0  0  0  1  0.0  1  0     1  \n",
       "3  0  0  0  0  1  0.0  0  1     1  \n",
       "4  0  0  0  0  1  0.0  0  1     0  "
      ]
     },
     "execution_count": 519,
     "metadata": {},
     "output_type": "execute_result"
    }
   ],
   "source": [
    "testData.head()"
   ]
  },
  {
   "cell_type": "code",
   "execution_count": 520,
   "metadata": {
    "collapsed": false
   },
   "outputs": [
    {
     "data": {
      "text/plain": [
       "PassengerId    0\n",
       "Pclass         0\n",
       "Age            0\n",
       "Fare           0\n",
       "Title          0\n",
       "nameLen        0\n",
       "FamilySize     0\n",
       "B              0\n",
       "C              0\n",
       "D              0\n",
       "E              0\n",
       "F              0\n",
       "G              0\n",
       "U              0\n",
       "T              0\n",
       "Q              0\n",
       "S              0\n",
       "male           0\n",
       "dtype: int64"
      ]
     },
     "execution_count": 520,
     "metadata": {},
     "output_type": "execute_result"
    }
   ],
   "source": [
    "testData.isnull().sum()\n"
   ]
  },
  {
   "cell_type": "code",
   "execution_count": 521,
   "metadata": {
    "collapsed": false
   },
   "outputs": [],
   "source": [
    "from sklearn.linear_model import LogisticRegression\n",
    "from sklearn.cross_validation import train_test_split\n",
    "from sklearn.metrics import confusion_matrix,classification_report"
   ]
  },
  {
   "cell_type": "code",
   "execution_count": 522,
   "metadata": {
    "collapsed": true
   },
   "outputs": [],
   "source": [
    "X_train, X_test, y_train, y_test = train_test_split(data.drop('Survived',axis=1), data['Survived'], test_size=0.33, random_state=50)"
   ]
  },
  {
   "cell_type": "code",
   "execution_count": 523,
   "metadata": {
    "collapsed": false
   },
   "outputs": [
    {
     "data": {
      "text/plain": [
       "PassengerId    0\n",
       "Pclass         0\n",
       "Age            0\n",
       "Fare           0\n",
       "Title          0\n",
       "nameLen        0\n",
       "FamilySize     0\n",
       "B              0\n",
       "C              0\n",
       "D              0\n",
       "E              0\n",
       "F              0\n",
       "G              0\n",
       "T              0\n",
       "U              0\n",
       "Q              0\n",
       "S              0\n",
       "male           0\n",
       "dtype: int64"
      ]
     },
     "execution_count": 523,
     "metadata": {},
     "output_type": "execute_result"
    }
   ],
   "source": [
    "X_train.isnull().sum()"
   ]
  },
  {
   "cell_type": "code",
   "execution_count": 524,
   "metadata": {
    "collapsed": false
   },
   "outputs": [
    {
     "name": "stdout",
     "output_type": "stream",
     "text": [
      "[[161  18]\n",
      " [ 31  85]]\n",
      "             precision    recall  f1-score   support\n",
      "\n",
      "          0       0.84      0.90      0.87       179\n",
      "          1       0.83      0.73      0.78       116\n",
      "\n",
      "avg / total       0.83      0.83      0.83       295\n",
      "\n"
     ]
    }
   ],
   "source": [
    "model = LogisticRegression()\n",
    "model.fit(X_train,y_train)\n",
    "predict = model.predict(X_test)\n",
    "print(confusion_matrix(y_test,predict))\n",
    "print(classification_report(y_test,predict))"
   ]
  },
  {
   "cell_type": "code",
   "execution_count": 525,
   "metadata": {
    "collapsed": false
   },
   "outputs": [
    {
     "data": {
      "text/plain": [
       "array([0, 1, 0, 0, 1, 0, 1, 0, 1, 0, 0, 0, 1, 0, 1, 1, 0, 0, 1, 1, 0, 1, 1,\n",
       "       1, 1, 0, 1, 0, 0, 0, 0, 0, 1, 1, 0, 0, 1, 1, 0, 0, 0, 1, 0, 1, 1, 0,\n",
       "       0, 0, 1, 1, 0, 0, 1, 1, 0, 0, 0, 0, 0, 1, 0, 0, 0, 1, 1, 1, 1, 0, 0,\n",
       "       1, 1, 0, 1, 1, 1, 1, 0, 1, 0, 1, 0, 0, 0, 0, 0, 0, 1, 1, 1, 1, 1, 0,\n",
       "       1, 0, 0, 0, 1, 0, 1, 0, 1, 0, 0, 0, 1, 0, 0, 0, 0, 0, 0, 1, 1, 1, 1,\n",
       "       0, 0, 1, 0, 1, 1, 0, 1, 0, 0, 1, 0, 1, 0, 0, 0, 1, 0, 0, 0, 0, 0, 0,\n",
       "       1, 0, 0, 1, 0, 0, 0, 0, 1, 0, 0, 0, 1, 0, 0, 1, 0, 0, 1, 1, 0, 1, 1,\n",
       "       1, 1, 0, 1, 1, 0, 0, 1, 1, 0, 0, 0, 0, 0, 1, 1, 0, 1, 1, 0, 1, 1, 0,\n",
       "       1, 0, 1, 0, 0, 0, 0, 0, 0, 0, 1, 0, 1, 1, 0, 1, 1, 1, 1, 1, 0, 0, 1,\n",
       "       0, 1, 0, 0, 0, 0, 1, 0, 0, 1, 0, 1, 0, 1, 0, 1, 0, 1, 1, 0, 1, 0, 0,\n",
       "       0, 1, 0, 0, 0, 0, 0, 0, 1, 1, 1, 1, 1, 0, 1, 0, 1, 0, 1, 1, 1, 0, 0,\n",
       "       0, 0, 0, 0, 0, 1, 0, 0, 0, 1, 1, 0, 0, 0, 0, 1, 0, 0, 0, 1, 1, 0, 1,\n",
       "       0, 0, 0, 0, 1, 1, 1, 1, 1, 0, 0, 1, 0, 0, 0, 1, 0, 0, 0, 0, 1, 0, 0,\n",
       "       0, 0, 0, 0, 0, 1, 1, 0, 1, 0, 1, 0, 0, 0, 1, 1, 1, 0, 0, 0, 0, 0, 0,\n",
       "       0, 0, 1, 0, 1, 1, 0, 0, 1, 0, 0, 1, 0, 0, 0, 0, 0, 1, 0, 0, 0, 1, 1,\n",
       "       1, 0, 1, 0, 1, 1, 0, 0, 0, 1, 0, 1, 0, 0, 1, 0, 1, 1, 0, 1, 0, 0, 1,\n",
       "       1, 0, 0, 1, 0, 0, 1, 1, 0, 0, 0, 0, 0, 0, 1, 1, 0, 1, 0, 0, 0, 0, 1,\n",
       "       1, 0, 0, 0, 1, 0, 1, 0, 0, 1, 0, 1, 1, 0, 1, 0, 0, 1, 1, 1, 1, 1, 0,\n",
       "       1, 0, 0, 1], dtype=int64)"
      ]
     },
     "execution_count": 525,
     "metadata": {},
     "output_type": "execute_result"
    }
   ],
   "source": [
    "test_predict = model.predict(testData)\n",
    "testDf = py.DataFrame(test_predict,columns=['Survived'])\n",
    "testResult = py.concat([testData['PassengerId'],testDf],axis=1)\n",
    "testResult.to_csv('TestResult.csv',index=False,columns=['PassengerId','Survived'])\n",
    "test_predict"
   ]
  },
  {
   "cell_type": "code",
   "execution_count": 526,
   "metadata": {
    "collapsed": false
   },
   "outputs": [
    {
     "data": {
      "text/plain": [
       "GridSearchCV(cv=sklearn.cross_validation.StratifiedKFold(labels=[0 1 ..., 0 0], n_folds=5, shuffle=False, random_state=None),\n",
       "       error_score='raise',\n",
       "       estimator=RandomForestClassifier(bootstrap=True, class_weight=None, criterion='gini',\n",
       "            max_depth=None, max_features='auto', max_leaf_nodes=None,\n",
       "            min_impurity_split=1e-07, min_samples_leaf=1,\n",
       "            min_samples_split=2, min_weight_fraction_leaf=0.0,\n",
       "            n_estimators=10, n_jobs=1, oob_score=False, random_state=None,\n",
       "            verbose=0, warm_start=False),\n",
       "       fit_params={}, iid=True, n_jobs=1,\n",
       "       param_grid={'max_depth': [4, 5, 6, 7, 8], 'n_estimators': [200, 300, 10], 'criterion': ['gini', 'entropy']},\n",
       "       pre_dispatch='2*n_jobs', refit=True, scoring=None, verbose=0)"
      ]
     },
     "execution_count": 526,
     "metadata": {},
     "output_type": "execute_result"
    }
   ],
   "source": [
    "from sklearn.ensemble import RandomForestClassifier\n",
    "from sklearn.cross_validation import StratifiedKFold\n",
    "forest = RandomForestClassifier()\n",
    "parameters = {'max_depth' : [4,5,6,7,8],\n",
    "              'n_estimators': [200,300,10],\n",
    "              'criterion': ['gini','entropy']}\n",
    "from sklearn.grid_search import GridSearchCV\n",
    "cross_validation = StratifiedKFold(y_train, n_folds=5)\n",
    "grid_search = GridSearchCV(forest,parameters,cv=cross_validation)\n",
    "grid_search.fit(X_train, y_train)"
   ]
  },
  {
   "cell_type": "code",
   "execution_count": 527,
   "metadata": {
    "collapsed": false
   },
   "outputs": [
    {
     "data": {
      "text/plain": [
       "RandomForestClassifier(bootstrap=True, class_weight=None, criterion='gini',\n",
       "            max_depth=5, max_features='auto', max_leaf_nodes=None,\n",
       "            min_impurity_split=1e-07, min_samples_leaf=1,\n",
       "            min_samples_split=2, min_weight_fraction_leaf=0.0,\n",
       "            n_estimators=10, n_jobs=1, oob_score=False, random_state=None,\n",
       "            verbose=0, warm_start=False)"
      ]
     },
     "execution_count": 527,
     "metadata": {},
     "output_type": "execute_result"
    }
   ],
   "source": [
    "grid_search.best_estimator_"
   ]
  },
  {
   "cell_type": "code",
   "execution_count": 528,
   "metadata": {
    "collapsed": false
   },
   "outputs": [
    {
     "name": "stdout",
     "output_type": "stream",
     "text": [
      "[[164  15]\n",
      " [ 36  80]]\n",
      "             precision    recall  f1-score   support\n",
      "\n",
      "          0       0.82      0.92      0.87       179\n",
      "          1       0.84      0.69      0.76       116\n",
      "\n",
      "avg / total       0.83      0.83      0.82       295\n",
      "\n"
     ]
    }
   ],
   "source": [
    "grid_predictions = grid_search.predict(X_test)\n",
    "print(confusion_matrix(y_test,grid_predictions))\n",
    "print(classification_report(y_test,grid_predictions))"
   ]
  },
  {
   "cell_type": "code",
   "execution_count": 529,
   "metadata": {
    "collapsed": false
   },
   "outputs": [
    {
     "data": {
      "text/plain": [
       "array([0, 1, 0, 0, 1, 0, 1, 0, 1, 0, 0, 0, 1, 0, 1, 1, 0, 0, 1, 1, 0, 0, 1,\n",
       "       0, 1, 0, 1, 0, 0, 0, 0, 0, 1, 1, 0, 0, 1, 1, 0, 0, 0, 0, 0, 1, 1, 0,\n",
       "       0, 0, 1, 1, 0, 0, 1, 1, 0, 0, 0, 0, 0, 1, 0, 0, 0, 1, 0, 1, 1, 0, 0,\n",
       "       1, 1, 0, 1, 0, 1, 0, 0, 1, 0, 1, 1, 0, 0, 0, 0, 0, 1, 1, 1, 1, 1, 0,\n",
       "       1, 0, 0, 0, 1, 0, 1, 0, 1, 0, 0, 0, 1, 0, 0, 0, 0, 0, 0, 1, 1, 1, 1,\n",
       "       0, 0, 0, 0, 1, 1, 0, 1, 0, 0, 1, 0, 1, 0, 0, 0, 0, 1, 0, 0, 0, 0, 0,\n",
       "       1, 0, 0, 1, 0, 0, 0, 0, 0, 0, 0, 0, 1, 0, 0, 1, 0, 0, 1, 1, 0, 1, 1,\n",
       "       1, 1, 0, 0, 1, 0, 0, 1, 1, 0, 0, 0, 0, 0, 1, 1, 0, 1, 1, 0, 1, 1, 0,\n",
       "       1, 0, 1, 0, 0, 0, 0, 0, 1, 0, 1, 0, 1, 1, 0, 1, 1, 1, 0, 1, 0, 0, 1,\n",
       "       0, 1, 0, 0, 0, 0, 1, 0, 0, 1, 0, 1, 0, 1, 0, 1, 0, 1, 1, 0, 1, 0, 0,\n",
       "       0, 1, 0, 0, 0, 0, 0, 0, 1, 1, 1, 1, 0, 0, 1, 0, 1, 0, 1, 1, 1, 0, 0,\n",
       "       0, 0, 0, 0, 0, 1, 0, 0, 0, 1, 1, 0, 0, 0, 0, 1, 0, 0, 0, 1, 1, 0, 1,\n",
       "       0, 0, 0, 0, 1, 1, 1, 1, 1, 0, 0, 0, 0, 0, 1, 1, 0, 0, 0, 0, 1, 0, 0,\n",
       "       0, 0, 0, 0, 0, 1, 1, 1, 1, 0, 1, 0, 0, 0, 1, 1, 1, 0, 0, 0, 0, 0, 0,\n",
       "       0, 0, 1, 0, 1, 0, 0, 0, 1, 0, 0, 1, 0, 0, 0, 0, 0, 1, 0, 0, 0, 1, 1,\n",
       "       1, 0, 1, 0, 1, 1, 0, 0, 0, 1, 0, 1, 0, 0, 1, 0, 1, 1, 0, 1, 0, 0, 1,\n",
       "       1, 0, 0, 1, 0, 0, 1, 1, 0, 0, 0, 0, 0, 0, 1, 1, 0, 1, 0, 0, 0, 1, 0,\n",
       "       1, 0, 0, 0, 1, 0, 1, 0, 0, 1, 0, 1, 0, 0, 0, 0, 0, 1, 1, 1, 1, 1, 0,\n",
       "       1, 0, 0, 1], dtype=int64)"
      ]
     },
     "execution_count": 529,
     "metadata": {},
     "output_type": "execute_result"
    }
   ],
   "source": [
    "grid_test_predict = grid_search.predict(testData)\n",
    "grid_testDf = py.DataFrame(grid_test_predict,columns=['Survived'])\n",
    "grid_testResult = py.concat([testData['PassengerId'],grid_testDf],axis=1)\n",
    "grid_testResult.to_csv('GridTestResult.csv',index=False,columns=['PassengerId','Survived'])\n",
    "grid_test_predict"
   ]
  },
  {
   "cell_type": "code",
   "execution_count": 530,
   "metadata": {
    "collapsed": false
   },
   "outputs": [],
   "source": [
    "#Adaboost usage\n",
    "from sklearn.ensemble import AdaBoostClassifier\n",
    "ad = AdaBoostClassifier()"
   ]
  },
  {
   "cell_type": "code",
   "execution_count": null,
   "metadata": {
    "collapsed": false
   },
   "outputs": [],
   "source": []
  },
  {
   "cell_type": "code",
   "execution_count": null,
   "metadata": {
    "collapsed": true
   },
   "outputs": [],
   "source": []
  },
  {
   "cell_type": "code",
   "execution_count": null,
   "metadata": {
    "collapsed": true
   },
   "outputs": [],
   "source": []
  },
  {
   "cell_type": "code",
   "execution_count": null,
   "metadata": {
    "collapsed": true
   },
   "outputs": [],
   "source": []
  },
  {
   "cell_type": "code",
   "execution_count": null,
   "metadata": {
    "collapsed": true
   },
   "outputs": [],
   "source": []
  },
  {
   "cell_type": "code",
   "execution_count": null,
   "metadata": {
    "collapsed": true
   },
   "outputs": [],
   "source": []
  },
  {
   "cell_type": "code",
   "execution_count": null,
   "metadata": {
    "collapsed": true
   },
   "outputs": [],
   "source": []
  },
  {
   "cell_type": "code",
   "execution_count": null,
   "metadata": {
    "collapsed": true
   },
   "outputs": [],
   "source": []
  },
  {
   "cell_type": "code",
   "execution_count": null,
   "metadata": {
    "collapsed": true
   },
   "outputs": [],
   "source": []
  },
  {
   "cell_type": "code",
   "execution_count": null,
   "metadata": {
    "collapsed": true
   },
   "outputs": [],
   "source": []
  },
  {
   "cell_type": "code",
   "execution_count": null,
   "metadata": {
    "collapsed": true
   },
   "outputs": [],
   "source": []
  },
  {
   "cell_type": "code",
   "execution_count": null,
   "metadata": {
    "collapsed": true
   },
   "outputs": [],
   "source": []
  },
  {
   "cell_type": "code",
   "execution_count": null,
   "metadata": {
    "collapsed": true
   },
   "outputs": [],
   "source": []
  },
  {
   "cell_type": "code",
   "execution_count": null,
   "metadata": {
    "collapsed": true
   },
   "outputs": [],
   "source": []
  },
  {
   "cell_type": "code",
   "execution_count": null,
   "metadata": {
    "collapsed": true
   },
   "outputs": [],
   "source": []
  },
  {
   "cell_type": "code",
   "execution_count": null,
   "metadata": {
    "collapsed": true
   },
   "outputs": [],
   "source": []
  },
  {
   "cell_type": "code",
   "execution_count": null,
   "metadata": {
    "collapsed": true
   },
   "outputs": [],
   "source": []
  },
  {
   "cell_type": "code",
   "execution_count": null,
   "metadata": {
    "collapsed": true
   },
   "outputs": [],
   "source": []
  },
  {
   "cell_type": "code",
   "execution_count": null,
   "metadata": {
    "collapsed": true
   },
   "outputs": [],
   "source": []
  },
  {
   "cell_type": "code",
   "execution_count": null,
   "metadata": {
    "collapsed": true
   },
   "outputs": [],
   "source": []
  },
  {
   "cell_type": "code",
   "execution_count": null,
   "metadata": {
    "collapsed": true
   },
   "outputs": [],
   "source": []
  },
  {
   "cell_type": "code",
   "execution_count": null,
   "metadata": {
    "collapsed": true
   },
   "outputs": [],
   "source": []
  },
  {
   "cell_type": "code",
   "execution_count": null,
   "metadata": {
    "collapsed": true
   },
   "outputs": [],
   "source": []
  },
  {
   "cell_type": "code",
   "execution_count": null,
   "metadata": {
    "collapsed": true
   },
   "outputs": [],
   "source": []
  },
  {
   "cell_type": "code",
   "execution_count": null,
   "metadata": {
    "collapsed": true
   },
   "outputs": [],
   "source": []
  },
  {
   "cell_type": "code",
   "execution_count": null,
   "metadata": {
    "collapsed": true
   },
   "outputs": [],
   "source": []
  },
  {
   "cell_type": "code",
   "execution_count": null,
   "metadata": {
    "collapsed": true
   },
   "outputs": [],
   "source": []
  }
 ],
 "metadata": {
  "kernelspec": {
   "display_name": "Python 3",
   "language": "python",
   "name": "python3"
  },
  "language_info": {
   "codemirror_mode": {
    "name": "ipython",
    "version": 3
   },
   "file_extension": ".py",
   "mimetype": "text/x-python",
   "name": "python",
   "nbconvert_exporter": "python",
   "pygments_lexer": "ipython3",
   "version": "3.6.0"
  }
 },
 "nbformat": 4,
 "nbformat_minor": 2
}

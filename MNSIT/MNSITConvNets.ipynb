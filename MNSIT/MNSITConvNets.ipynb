{
 "cells": [
  {
   "cell_type": "markdown",
   "metadata": {},
   "source": [
    "MNSIT problem here is solved using tensor flow API's for convulutional network. 2 hidden and 2 fully connected layers have been used with relu as activation function, cross entropy as loss function, softmax at the last fully connected layer. We have applied batch norm after each conv layer and before applying activation function. Batch norm is not done only in last fully connected layer and instead we have applied dropout in the last fully connected layer before doing convolution in that layer. "
   ]
  },
  {
   "cell_type": "code",
   "execution_count": 25,
   "metadata": {
    "collapsed": true
   },
   "outputs": [],
   "source": [
    "import numpy as np\n",
    "import pandas as pd\n",
    "import tensorflow as tf"
   ]
  },
  {
   "cell_type": "code",
   "execution_count": 26,
   "metadata": {
    "collapsed": true
   },
   "outputs": [],
   "source": [
    "images = pd.read_csv('train.csv')"
   ]
  },
  {
   "cell_type": "code",
   "execution_count": 27,
   "metadata": {},
   "outputs": [
    {
     "data": {
      "text/plain": [
       "<matplotlib.image.AxesImage at 0x124d7ae10>"
      ]
     },
     "execution_count": 27,
     "metadata": {},
     "output_type": "execute_result"
    },
    {
     "data": {
      "image/png": "[encoded data removed]",
      "text/plain": [
       "<matplotlib.figure.Figure at 0x119af6550>"
      ]
     },
     "metadata": {},
     "output_type": "display_data"
    }
   ],
   "source": [
    "import matplotlib.pyplot as plt\n",
    "%matplotlib inline\n",
    "plt.imshow(images.iloc[0][1:].values.reshape([28,28]))"
   ]
  },
  {
   "cell_type": "code",
   "execution_count": null,
   "metadata": {
    "collapsed": true
   },
   "outputs": [],
   "source": [
    "CLASS_SIZE = 10\n",
    "starter_learning_rate = 0.01\n",
    "batch_size = 100"
   ]
  },
  {
   "cell_type": "code",
   "execution_count": 28,
   "metadata": {
    "collapsed": true
   },
   "outputs": [],
   "source": [
    "X = images[images.columns[1:]].as_matrix()\n",
    "Y = np.zeros([len(images),CLASS_SIZE])\n",
    "for i in range(len(images)):\n",
    "    Y[i][images.iloc[i]['label']] = 1"
   ]
  },
  {
   "cell_type": "code",
   "execution_count": 29,
   "metadata": {},
   "outputs": [
    {
     "data": {
      "text/plain": [
       "784"
      ]
     },
     "execution_count": 29,
     "metadata": {},
     "output_type": "execute_result"
    }
   ],
   "source": [
    "inputImageSize = len(images.columns)-1"
   ]
  },
  {
   "cell_type": "code",
   "execution_count": 30,
   "metadata": {
    "collapsed": true
   },
   "outputs": [],
   "source": [
    "x_ = tf.placeholder(tf.float32,shape=[None,inputImageSize])\n",
    "y_ = tf.placeholder(tf.float32,shape=[None,CLASS_SIZE])\n",
    "tst = tf.placeholder(tf.bool)\n",
    "#iter = tf.placeholder(tf.int32)"
   ]
  },
  {
   "cell_type": "code",
   "execution_count": 31,
   "metadata": {
    "collapsed": true
   },
   "outputs": [],
   "source": [
    "def weight_initialise(shape):\n",
    "    initial = tf.truncated_normal(shape,stddev=0.1)\n",
    "    return tf.Variable(initial)\n",
    "    "
   ]
  },
  {
   "cell_type": "code",
   "execution_count": 32,
   "metadata": {
    "collapsed": true
   },
   "outputs": [],
   "source": [
    "def bias_initialise(shape):\n",
    "    initial = tf.constant(value=0.1,shape=shape)\n",
    "    return tf.Variable(initial)"
   ]
  },
  {
   "cell_type": "code",
   "execution_count": null,
   "metadata": {
    "collapsed": true
   },
   "outputs": [],
   "source": [
    "#conv2d(\n",
    "#    batch = Size of the subset of examples to use when performing gradient descent during training.\n",
    "#    input [batch, in_height, in_width, in_channels],\n",
    "#    filter, [ filter_height, filter_width, in_channels, out_channels]\n",
    "#    strides, [batch, height, width, channels] here batch = channels = 1 for strides why ? because we cannot skip over any example input as well we cannot skip over any input along any depth \n",
    "#                                            but the input along height and column can be skipped .\n",
    "#                                            so height and width need not be 1  \n",
    "#    padding,\n",
    "#    use_cudnn_on_gpu=None,\n",
    "#    data_format=None,\n",
    "#    name=None\n",
    "#)\n",
    "def conv2d(x,W):   ##Stride of size  [batch, channels, height, width] = [1,1,1,1] and padding = 'SAME' is used \n",
    "    return tf.nn.conv2d(x,W,[1,1,1,1],padding='SAME')\n",
    "\n",
    "#max_pool(\n",
    "#    value,\n",
    "#    ksize --  The size of the window for each dimension of the input tensor.\n",
    "#    strides,\n",
    "#    padding,\n",
    "#    data_format='NHWC',\n",
    "#    name=None\n",
    "#)\n",
    "#max pool of 2 x 2 \n",
    "def max_pool(x):\n",
    "    return tf.nn.max_pool(x,ksize=[1,2,2,1],strides=[1,2,2,1],padding='SAME')"
   ]
  },
  {
   "cell_type": "code",
   "execution_count": 34,
   "metadata": {
    "collapsed": true
   },
   "outputs": [],
   "source": [
    "def batchnorm(Ylogits,shape,is_test=1, convolutional=True):\n",
    "    offset = tf.Variable(tf.constant(value=0.1,shape=shape))\n",
    "    ##create an exponential Moving average object with decay  = 0.999 generally close to 0 like 0.9,0.99, 0.999\n",
    "    exp_moving_avg = tf.train.ExponentialMovingAverage(0.999) # adding the iteration prevents from averaging across non-existing iterations\n",
    "    bnepsilon = 1e-5\n",
    "    ## for convolutional layer,apply the mean or variance along all three axis - height, width, depth\n",
    "    if convolutional:\n",
    "        mean, variance = tf.nn.moments(Ylogits, [0, 1, 2])\n",
    "    ## for fully connected layer, since the data is all flattened out, calculate mean/variance only along 1 aixs\n",
    "    else:\n",
    "        mean, variance = tf.nn.moments(Ylogits, [0])\n",
    "    ##create shadow variable for mean and variance , initialise them to their original values, add them to the list of GraphKeys.MOVING_AVERAGE_VARIABLES and return the op which will handle updating moving averages of shadow variables using the formula\n",
    "    ## shadow variable = decay * shadow _variable + (1-decay) * x\n",
    "    update_moving_everages = exp_moving_avg.apply([mean, variance])\n",
    "    ## .average returns the variable holding the moving average of mean/variance variable\n",
    "    m = tf.cond(is_test, lambda: exp_moving_avg.average(mean), lambda: mean)\n",
    "    v = tf.cond(is_test, lambda: exp_moving_avg.average(variance), lambda: variance)\n",
    "    Ybn = tf.nn.batch_normalization(Ylogits, m, v, offset, None, bnepsilon)\n",
    "    return Ybn,update_moving_everages"
   ]
  },
  {
   "cell_type": "code",
   "execution_count": 35,
   "metadata": {
    "collapsed": true
   },
   "outputs": [],
   "source": [
    "W_conv1 = weight_initialise([5,5,1,32])  ## Filter of shape [filter_height, filter_width, in_channels, out_channels]\n",
    "bias1 = bias_initialise([32])"
   ]
  },
  {
   "cell_type": "code",
   "execution_count": 36,
   "metadata": {
    "collapsed": true
   },
   "outputs": [],
   "source": [
    "x_image = tf.reshape(x_,shape=[-1,28,28,1])"
   ]
  },
  {
   "cell_type": "code",
   "execution_count": 37,
   "metadata": {
    "collapsed": true
   },
   "outputs": [],
   "source": [
    "Conv1 = tf.add(conv2d(x_image,W_conv1),bias1)\n",
    "Bn1,update_ema1 = batchnorm(Conv1,[32],tst,convolutional=True)\n",
    "h_conv1 = tf.nn.relu(Bn1)\n",
    "max_pool1 = max_pool(h_conv1)"
   ]
  },
  {
   "cell_type": "code",
   "execution_count": 38,
   "metadata": {
    "collapsed": true
   },
   "outputs": [],
   "source": [
    "#2nd conv layer\n",
    "W_conv2 = weight_initialise([5,5,32,64])\n",
    "bias2 = bias_initialise([64])\n",
    "Conv2 = tf.add(conv2d(max_pool1,W_conv2),bias2)\n",
    "Bn2,update_ema2 = batchnorm(Conv2,[64],tst,convolutional=True)\n",
    "h_conv2 = tf.nn.relu(Bn2)\n",
    "max_pool2 = max_pool(h_conv2)\n"
   ]
  },
  {
   "cell_type": "code",
   "execution_count": 39,
   "metadata": {
    "collapsed": true
   },
   "outputs": [],
   "source": [
    "#fully connected layer\n",
    "W_fc1 = weight_initialise([7*7*64,1024])\n",
    "bias_fc1 = bias_initialise([1024])"
   ]
  },
  {
   "cell_type": "code",
   "execution_count": 40,
   "metadata": {
    "collapsed": true
   },
   "outputs": [],
   "source": [
    "h_maxpool2_flat = tf.reshape(max_pool2,shape=[-1,7*7*64])\n",
    "fc1 = tf.matmul(h_maxpool2_flat,W_fc1)+bias_fc1\n",
    "BnFC1,update_emaFC1 = batchnorm(fc1,[1024],tst,convolutional=False)\n",
    "h_fc1 = tf.nn.relu(BnFC1)"
   ]
  },
  {
   "cell_type": "code",
   "execution_count": 41,
   "metadata": {
    "collapsed": true
   },
   "outputs": [],
   "source": [
    "keep_prob = tf.placeholder(tf.float32)\n",
    "h_fc1_dropout = tf.nn.dropout(h_fc1,keep_prob=keep_prob)"
   ]
  },
  {
   "cell_type": "code",
   "execution_count": 42,
   "metadata": {
    "collapsed": true
   },
   "outputs": [],
   "source": [
    "W_fc2 = weight_initialise([1024,CLASS_SIZE])\n",
    "bias_fc2 = bias_initialise([CLASS_SIZE])\n",
    "y_conv = tf.matmul(h_fc1_dropout,W_fc2) + bias_fc2"
   ]
  },
  {
   "cell_type": "code",
   "execution_count": 43,
   "metadata": {
    "collapsed": true
   },
   "outputs": [],
   "source": [
    "# variable learning rate\n",
    "lr = tf.placeholder(tf.float32)\n",
    "\n",
    "global_step = tf.Variable(0, trainable=False)\n",
    "\n",
    "total_batch = int(len(X)/batch_size)\n",
    "####\n",
    "#exponential_decay(\n",
    "#    learning_rate,  -- initial learning rate\n",
    "#    global_step,   -- current step . this will be incremented during gradient descent \n",
    "#    decay_steps,    -- perform decay after this many steps\n",
    "#    decay_rate,     \n",
    "#    staircase=False,  if staircase is true, then update is performed at every integer division of global_step / decay_steps\n",
    "#    name=None\n",
    "#)\n",
    "##decayed_learning_rate = learning_rate * decay_rate ^ (global_step / decay_steps)\n",
    "\n",
    "learning_rate = tf.train.exponential_decay(starter_learning_rate, global_step, total_batch, 0.96, staircase=True)"
   ]
  },
  {
   "cell_type": "code",
   "execution_count": 44,
   "metadata": {
    "collapsed": true
   },
   "outputs": [],
   "source": [
    "##group all the operations which will be executed for update_ema to finish.This is just as a convience not to write all\n",
    "#these operations sepeartely during update and instead use an alias for them\n",
    "update_ema = tf.group(update_ema1, update_ema2, update_emaFC1)"
   ]
  },
  {
   "cell_type": "code",
   "execution_count": 45,
   "metadata": {},
   "outputs": [
    {
     "name": "stdout",
     "output_type": "stream",
     "text": [
      "step 0, training accuracy 0.141816\n",
      "step 1, training accuracy 0.0669032\n",
      "step 2, training accuracy 0.0219872\n",
      "step 3, training accuracy 0.108595\n",
      "step 4, training accuracy 0.0560566\n",
      "step 5, training accuracy 0.00869309\n",
      "step 6, training accuracy 0.0126883\n",
      "step 7, training accuracy 0.00039305\n",
      "step 8, training accuracy 0.00141179\n",
      "step 9, training accuracy 0.00281328\n",
      "step 10, training accuracy 0.0479677\n",
      "step 11, training accuracy 0.00362573\n",
      "step 12, training accuracy 0.00427259\n",
      "step 13, training accuracy 0.000249512\n",
      "step 14, training accuracy 0.000792261\n",
      "step 15, training accuracy 0.00552118\n",
      "step 16, training accuracy 0.00061695\n",
      "step 17, training accuracy 0.0277134\n",
      "step 18, training accuracy 0.000712784\n",
      "step 19, training accuracy 0.0139196\n",
      "step 20, training accuracy 0.00688288\n",
      "step 21, training accuracy 0.0113886\n",
      "step 22, training accuracy 0.0409015\n",
      "step 23, training accuracy 0.0073741\n",
      "step 24, training accuracy 0.000215316\n",
      "step 25, training accuracy 0.0251535\n",
      "step 26, training accuracy 0.000214321\n",
      "step 27, training accuracy 0.00030915\n",
      "step 28, training accuracy 0.00774503\n",
      "step 29, training accuracy 0.00266953\n",
      "step 30, training accuracy 8.94717e-05\n",
      "step 31, training accuracy 0.000475294\n",
      "step 32, training accuracy 3.54671e-05\n",
      "step 33, training accuracy 0.00440173\n",
      "step 34, training accuracy 2.90732e-06\n",
      "step 35, training accuracy 0.000228039\n",
      "step 36, training accuracy 0.00397662\n",
      "step 37, training accuracy 0.000146975\n",
      "step 38, training accuracy 2.46982e-05\n",
      "step 39, training accuracy 0.000465931\n",
      "step 40, training accuracy 0.000226692\n",
      "step 41, training accuracy 7.20009e-07\n",
      "step 42, training accuracy 6.80673e-07\n",
      "step 43, training accuracy 4.76837e-09\n",
      "step 44, training accuracy 2.39608e-07\n",
      "step 45, training accuracy 4.86362e-07\n",
      "step 46, training accuracy 5.14972e-07\n",
      "step 47, training accuracy 0.000633806\n",
      "step 48, training accuracy 6.18678e-07\n",
      "step 49, training accuracy 3.21862e-07\n",
      "step 50, training accuracy 4.60099e-05\n",
      "step 51, training accuracy 1.08639e-05\n",
      "step 52, training accuracy 7.23582e-07\n",
      "step 53, training accuracy 5.48362e-08\n",
      "step 54, training accuracy 3.09944e-08\n",
      "step 55, training accuracy 6.17197e-06\n",
      "step 56, training accuracy 1.07288e-08\n",
      "step 57, training accuracy 0.00015709\n",
      "step 58, training accuracy 0.000702042\n",
      "step 59, training accuracy 3.62393e-07\n",
      "step 60, training accuracy 0.000761781\n",
      "step 61, training accuracy 5.60283e-08\n",
      "step 62, training accuracy 2.21113e-06\n",
      "step 63, training accuracy 7.68871e-07\n",
      "step 64, training accuracy 5.25273e-05\n",
      "step 65, training accuracy 0.000472774\n",
      "step 66, training accuracy 2.68218e-07\n",
      "step 67, training accuracy 2.15767e-07\n",
      "step 68, training accuracy 1.58548e-07\n",
      "step 69, training accuracy 3.99277e-06\n",
      "step 70, training accuracy 0.000112772\n",
      "step 71, training accuracy 2.12191e-07\n",
      "step 72, training accuracy 0.00146927\n",
      "step 73, training accuracy 4.72187e-05\n",
      "step 74, training accuracy 1.48645e-06\n",
      "step 75, training accuracy 7.76688e-05\n",
      "step 76, training accuracy 3.46364e-06\n",
      "step 77, training accuracy 1.03827e-06\n",
      "step 78, training accuracy 1.90735e-08\n",
      "step 79, training accuracy 3.57627e-08\n",
      "step 80, training accuracy 2.16959e-07\n",
      "step 81, training accuracy 1.58541e-06\n",
      "step 82, training accuracy 2.57489e-07\n",
      "step 83, training accuracy 1.45434e-07\n",
      "step 84, training accuracy 3.6245e-06\n",
      "step 85, training accuracy 3.57628e-09\n",
      "step 86, training accuracy 1.77537e-05\n",
      "step 87, training accuracy 2.95635e-07\n",
      "step 88, training accuracy 6.00798e-07\n",
      "step 89, training accuracy 8.07757e-05\n",
      "step 90, training accuracy 1.66893e-08\n",
      "step 91, training accuracy 7.15256e-09\n",
      "step 92, training accuracy 2.26497e-08\n",
      "step 93, training accuracy 4.76837e-09\n",
      "step 94, training accuracy 1.19209e-08\n",
      "step 95, training accuracy 2.2826e-06\n",
      "step 96, training accuracy 2.38419e-09\n",
      "step 97, training accuracy 6.85431e-07\n",
      "step 98, training accuracy 5.96046e-09\n",
      "step 99, training accuracy 1.71661e-07\n",
      "step 100, training accuracy 1.94294e-06\n",
      "step 101, training accuracy 2.23804e-05\n",
      "step 102, training accuracy 8.80918e-07\n",
      "step 103, training accuracy 2.05038e-07\n",
      "step 104, training accuracy 5.60283e-08\n",
      "step 105, training accuracy 4.88758e-08\n",
      "step 106, training accuracy 9.77485e-07\n",
      "step 107, training accuracy 5.18547e-07\n",
      "step 108, training accuracy 5.48361e-08\n",
      "step 109, training accuracy 0\n",
      "step 110, training accuracy 1.21353e-05\n",
      "step 111, training accuracy 3.45706e-08\n",
      "step 112, training accuracy 1.22785e-07\n",
      "step 113, training accuracy 1.50203e-07\n",
      "step 114, training accuracy 0\n",
      "step 115, training accuracy 2.10998e-07\n",
      "step 116, training accuracy 2.42642e-05\n",
      "step 117, training accuracy 2.24448e-06\n",
      "step 118, training accuracy 6.78554e-05\n",
      "step 119, training accuracy 2.44945e-06\n",
      "step 120, training accuracy 2.09806e-07\n",
      "step 121, training accuracy 3.78896e-06\n",
      "step 122, training accuracy 2.38419e-09\n",
      "step 123, training accuracy 3.33786e-08\n",
      "step 124, training accuracy 4.76837e-09\n",
      "step 125, training accuracy 9.53674e-09\n",
      "step 126, training accuracy 1.59013e-06\n",
      "step 127, training accuracy 2.74181e-08\n",
      "step 128, training accuracy 1.10934e-05\n",
      "step 129, training accuracy 2.26498e-08\n",
      "step 130, training accuracy 9.32021e-06\n",
      "step 131, training accuracy 7.15256e-09\n",
      "step 132, training accuracy 7.15256e-09\n",
      "step 133, training accuracy 3.02401e-06\n",
      "step 134, training accuracy 1.06096e-07\n",
      "step 135, training accuracy 9.90561e-06\n",
      "step 136, training accuracy 1.25342e-05\n",
      "step 137, training accuracy 1.19209e-08\n",
      "step 138, training accuracy 2.14576e-08\n",
      "step 139, training accuracy 9.89067e-06\n",
      "step 140, training accuracy 2.6226e-08\n",
      "step 141, training accuracy 5.2452e-08\n",
      "step 142, training accuracy 3.36166e-07\n",
      "step 143, training accuracy 1.68084e-07\n",
      "step 144, training accuracy 1.07288e-08\n",
      "step 145, training accuracy 1.78814e-08\n",
      "step 146, training accuracy 1.59739e-07\n",
      "step 147, training accuracy 2.38419e-09\n",
      "step 148, training accuracy 2.13009e-06\n",
      "step 149, training accuracy 1.45544e-06\n",
      "step 150, training accuracy 9.53674e-09\n",
      "step 151, training accuracy 9.89432e-08\n",
      "step 152, training accuracy 3.57628e-09\n",
      "step 153, training accuracy 1.95502e-07\n",
      "step 154, training accuracy 0\n",
      "step 155, training accuracy 4.08648e-05\n",
      "step 156, training accuracy 1.83208e-06\n",
      "step 157, training accuracy 0\n",
      "step 158, training accuracy 9.53674e-09\n",
      "step 159, training accuracy 4.85541e-06\n",
      "step 160, training accuracy 1.41104e-05\n",
      "step 161, training accuracy 0\n",
      "step 162, training accuracy 3.57628e-09\n",
      "step 163, training accuracy 8.4069e-05\n",
      "step 164, training accuracy 0\n",
      "step 165, training accuracy 1.72959e-06\n",
      "step 166, training accuracy 5.36441e-08\n",
      "step 167, training accuracy 1.80004e-07\n",
      "step 168, training accuracy 1.55914e-06\n",
      "step 169, training accuracy 1.28745e-07\n",
      "step 170, training accuracy 6.29406e-07\n",
      "step 171, training accuracy 3.67098e-06\n",
      "step 172, training accuracy 3.80325e-05\n",
      "step 173, training accuracy 4.0292e-07\n",
      "step 174, training accuracy 1.15633e-07\n",
      "step 175, training accuracy 9.53674e-09\n",
      "step 176, training accuracy 2.99211e-07\n",
      "step 177, training accuracy 1.78814e-08\n",
      "step 178, training accuracy 3.57627e-08\n",
      "step 179, training accuracy 2.36126e-06\n",
      "step 180, training accuracy 1.3782e-05\n",
      "step 181, training accuracy 5.00678e-08\n",
      "step 182, training accuracy 1.19209e-09\n",
      "step 183, training accuracy 7.36437e-06\n",
      "step 184, training accuracy 7.15255e-09\n",
      "step 185, training accuracy 4.5537e-07\n",
      "step 186, training accuracy 1.04304e-06\n",
      "step 187, training accuracy 1.81182e-06\n",
      "step 188, training accuracy 0\n",
      "step 189, training accuracy 1.54972e-08\n",
      "step 190, training accuracy 5.23431e-06\n",
      "step 191, training accuracy 1.657e-07\n",
      "step 192, training accuracy 0.000232148\n",
      "step 193, training accuracy 0\n",
      "step 194, training accuracy 9.4411e-07\n",
      "step 195, training accuracy 1.3113e-08\n",
      "step 196, training accuracy 5.96046e-09\n",
      "step 197, training accuracy 3.92703e-05\n",
      "step 198, training accuracy 8.34465e-09\n",
      "step 199, training accuracy 1.79756e-06\n"
     ]
    }
   ],
   "source": [
    "cross_entropy = tf.reduce_mean(tf.nn.softmax_cross_entropy_with_logits(labels=y_, logits=y_conv))\n",
    "## Passing global_step to minimize() will increment it at each step\n",
    "train_step = tf.train.AdamOptimizer(learning_rate).minimize(cross_entropy,global_step) \n",
    "\n",
    "correct_prediction = tf.equal(tf.argmax(y_conv, 1), tf.argmax(y_, 1))\n",
    "accuracy = tf.reduce_mean(tf.cast(correct_prediction, tf.float32))\n",
    "\n",
    "session = tf.InteractiveSession()\n",
    "session.run(tf.global_variables_initializer())\n",
    "for i in range(200):\n",
    "    avg_cost = 0.0\n",
    "    # learning rate decay\n",
    "    for bid in range(total_batch):\n",
    "        batch_x = X[bid*batch_size:(bid+1)*batch_size]\n",
    "        batch_y = Y[bid*batch_size:(bid+1)*batch_size]\n",
    "        _,ct, _ = session.run([train_step,cross_entropy, update_ema],feed_dict={x_: batch_x, y_: batch_y, keep_prob: 0.2,tst:False})\n",
    "        avg_cost += ct / total_batch\n",
    "    print('step %d, training accuracy %g' % (i, ct))\n",
    "        \n"
   ]
  },
  {
   "cell_type": "code",
   "execution_count": 46,
   "metadata": {
    "collapsed": true
   },
   "outputs": [],
   "source": [
    "test_data = pd.read_csv(\"test.csv\")\n",
    "Xtest = test_data.as_matrix()"
   ]
  },
  {
   "cell_type": "code",
   "execution_count": 47,
   "metadata": {
    "collapsed": true
   },
   "outputs": [],
   "source": [
    "test_pred = session.run(y_conv,feed_dict={x_:Xtest,keep_prob:1.0,tst:True})\n",
    "outValue = session.run(tf.arg_max(test_pred,1))"
   ]
  },
  {
   "cell_type": "code",
   "execution_count": 48,
   "metadata": {
    "collapsed": true
   },
   "outputs": [],
   "source": [
    "output = pd.DataFrame(outValue, columns=[\"Label\"],index=range(1,28001))\n",
    "output.index.names = ['ImageId']\n",
    "output.to_csv('outputConvNetlong.csv')"
   ]
  },
  {
   "cell_type": "code",
   "execution_count": null,
   "metadata": {
    "collapsed": true
   },
   "outputs": [],
   "source": []
  },
  {
   "cell_type": "code",
   "execution_count": null,
   "metadata": {
    "collapsed": true
   },
   "outputs": [],
   "source": []
  }
 ],
 "metadata": {
  "kernelspec": {
   "display_name": "Python 3",
   "language": "python",
   "name": "python3"
  },
  "language_info": {
   "codemirror_mode": {
    "name": "ipython",
    "version": 3
   },
   "file_extension": ".py",
   "mimetype": "text/x-python",
   "name": "python",
   "nbconvert_exporter": "python",
   "pygments_lexer": "ipython3",
   "version": "3.6.1"
  }
 },
 "nbformat": 4,
 "nbformat_minor": 2
}

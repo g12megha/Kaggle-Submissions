{
 "cells": [
  {
   "cell_type": "markdown",
   "metadata": {},
   "source": [
    "Here the MNSIT problem has been solved using a 2 layer neural network with relu as activation function after each layer.Adam Optimiser has been used to optimise the cost and update the weights of the hidden layer"
   ]
  },
  {
   "cell_type": "code",
   "execution_count": 34,
   "metadata": {
    "collapsed": true
   },
   "outputs": [],
   "source": [
    "import numpy as np\n",
    "import pandas as pd\n",
    "import tensorflow as tf"
   ]
  },
  {
   "cell_type": "code",
   "execution_count": 35,
   "metadata": {
    "collapsed": true
   },
   "outputs": [],
   "source": [
    "images = pd.read_csv('train.csv')"
   ]
  },
  {
   "cell_type": "code",
   "execution_count": 36,
   "metadata": {},
   "outputs": [
    {
     "data": {
      "text/plain": [
       "<matplotlib.image.AxesImage at 0x7f7e9c028e90>"
      ]
     },
     "execution_count": 36,
     "metadata": {},
     "output_type": "execute_result"
    },
    {
     "data": {
      "image/png": "[encoded data removed]",
      "text/plain": [
       "<matplotlib.figure.Figure at 0x7f7ea29b4b10>"
      ]
     },
     "metadata": {},
     "output_type": "display_data"
    }
   ],
   "source": [
    "import matplotlib.pyplot as plt\n",
    "%matplotlib inline\n",
    "plt.imshow(images.iloc[0][1:].values.reshape([28,28]))"
   ]
  },
  {
   "cell_type": "code",
   "execution_count": 37,
   "metadata": {
    "collapsed": true
   },
   "outputs": [],
   "source": [
    "X = images[images.columns[1:]].as_matrix()\n",
    "Y = np.zeros([len(images),10])\n",
    "for i in range(len(images)):\n",
    "  Y[i][images.iloc[i]['label']] = 1\n"
   ]
  },
  {
   "cell_type": "code",
   "execution_count": 38,
   "metadata": {},
   "outputs": [
    {
     "data": {
      "text/plain": [
       "(28140, 10)"
      ]
     },
     "execution_count": 38,
     "metadata": {},
     "output_type": "execute_result"
    }
   ],
   "source": [
    "from sklearn.cross_validation import train_test_split\n",
    "X_train, X_test, y_train, y_test = train_test_split(X,Y,test_size=0.33, random_state = 42)\n",
    "y_train.shape"
   ]
  },
  {
   "cell_type": "code",
   "execution_count": 39,
   "metadata": {},
   "outputs": [
    {
     "data": {
      "text/plain": [
       "(13860, 784)"
      ]
     },
     "execution_count": 39,
     "metadata": {},
     "output_type": "execute_result"
    }
   ],
   "source": [
    "X_test.shape"
   ]
  },
  {
   "cell_type": "code",
   "execution_count": 40,
   "metadata": {
    "collapsed": true
   },
   "outputs": [],
   "source": [
    "samples = images.count()\n",
    "batch_size = 100\n",
    "\n",
    "epoch = 1\n",
    "learning_rate = .0005\n",
    "\n",
    "input_size = len(images.columns)-1\n",
    "hiddenLayer1_size = 256\n",
    "hiddenLayer2_size = 256\n",
    "output_size = 10"
   ]
  },
  {
   "cell_type": "code",
   "execution_count": 41,
   "metadata": {
    "collapsed": true
   },
   "outputs": [],
   "source": [
    "x = tf.placeholder(tf.float32, shape=[None, input_size])\n",
    "y = tf.placeholder(tf.float32, shape=[None, output_size])\n",
    "\n",
    "weights = {\n",
    "   'h1': tf.Variable(tf.random_normal([input_size, hiddenLayer1_size])),\n",
    "   'h2': tf.Variable(tf.random_normal([hiddenLayer1_size, hiddenLayer2_size])),\n",
    "   'out': tf.Variable(tf.random_normal([hiddenLayer2_size, output_size]))\n",
    "}\n",
    "biases = {\n",
    "   'h1': tf.Variable(tf.random_normal([hiddenLayer1_size])),\n",
    "   'h2': tf.Variable(tf.random_normal([hiddenLayer2_size])),\n",
    "   'out': tf.Variable(tf.random_normal([output_size]))\n",
    "}"
   ]
  },
  {
   "cell_type": "code",
   "execution_count": 42,
   "metadata": {
    "collapsed": true
   },
   "outputs": [],
   "source": [
    "def createDeepNetwork(x,weights, biases):\n",
    "   l1 = tf.nn.relu(tf.add(tf.matmul(x, weights['h1']), biases['h1']))\n",
    "   l2 = tf.nn.relu(tf.add(tf.matmul(l1, weights['h2']), biases['h2']))\n",
    "   outlayer = tf.add(tf.matmul(l2, weights['out']), biases['out'])\n",
    "   return outlayer\n",
    "predictions = createDeepNetwork(x,weights,biases)"
   ]
  },
  {
   "cell_type": "code",
   "execution_count": 43,
   "metadata": {
    "collapsed": true
   },
   "outputs": [],
   "source": [
    "cost = tf.reduce_mean(tf.nn.sigmoid_cross_entropy_with_logits(logits=predictions,labels=y))\n",
    "optimiser = tf.train.AdamOptimizer(learning_rate=learning_rate).minimize(cost)"
   ]
  },
  {
   "cell_type": "code",
   "execution_count": 44,
   "metadata": {
    "collapsed": true
   },
   "outputs": [],
   "source": [
    "init = tf.global_variables_initializer()\n",
    "session = tf.InteractiveSession()\n",
    "session.run(init)"
   ]
  },
  {
   "cell_type": "code",
   "execution_count": 45,
   "metadata": {},
   "outputs": [
    {
     "data": {
      "text/plain": [
       "42000"
      ]
     },
     "execution_count": 45,
     "metadata": {},
     "output_type": "execute_result"
    }
   ],
   "source": [
    "len(X)"
   ]
  },
  {
   "cell_type": "code",
   "execution_count": 46,
   "metadata": {},
   "outputs": [
    {
     "name": "stdout",
     "output_type": "stream",
     "text": [
      "('average cost for the round ', 25826.851329654142)\n",
      "('average cost for the round ', 5862.9169383201697)\n",
      "('average cost for the round ', 3778.1513224428681)\n",
      "('average cost for the round ', 2861.9841304249617)\n",
      "('average cost for the round ', 2319.269141797919)\n",
      "('average cost for the round ', 1941.5474655857286)\n",
      "('average cost for the round ', 1659.7849178653589)\n",
      "('average cost for the round ', 1440.097424490172)\n",
      "('average cost for the round ', 1258.3922961903638)\n",
      "('average cost for the round ', 1105.5751894479124)\n",
      "('average cost for the round ', 973.86024437086473)\n",
      "('average cost for the round ', 861.57439544786394)\n",
      "('average cost for the round ', 764.20338738600981)\n",
      "('average cost for the round ', 680.2673374053843)\n",
      "('average cost for the round ', 607.63373014511205)\n",
      "('average cost for the round ', 543.73935590859401)\n",
      "('average cost for the round ', 485.51780306995977)\n",
      "('average cost for the round ', 431.93242953426062)\n",
      "('average cost for the round ', 384.99681704918271)\n",
      "('average cost for the round ', 340.7099881155213)\n",
      "('average cost for the round ', 305.38038804268064)\n",
      "('average cost for the round ', 268.00468428915502)\n",
      "('average cost for the round ', 239.94520972038066)\n",
      "('average cost for the round ', 209.12684114887193)\n",
      "('average cost for the round ', 186.57161658217481)\n",
      "('average cost for the round ', 165.45407016082171)\n",
      "('average cost for the round ', 145.30927862348935)\n",
      "('average cost for the round ', 126.55465460205413)\n",
      "('average cost for the round ', 109.3870472704389)\n",
      "('average cost for the round ', 97.048964420671595)\n",
      "('average cost for the round ', 84.44335866571673)\n",
      "('average cost for the round ', 72.33139197568137)\n",
      "('average cost for the round ', 62.842641092916388)\n",
      "('average cost for the round ', 55.387414194086716)\n",
      "('average cost for the round ', 49.146725070646241)\n",
      "('average cost for the round ', 42.885547573628472)\n",
      "('average cost for the round ', 37.616942385920837)\n",
      "('average cost for the round ', 33.692271152000863)\n",
      "('average cost for the round ', 27.310988293519561)\n",
      "('average cost for the round ', 22.309703305522746)\n",
      "('average cost for the round ', 19.329378160412727)\n",
      "('average cost for the round ', 16.970184043977827)\n",
      "('average cost for the round ', 14.386725269390588)\n",
      "('average cost for the round ', 13.344924609272926)\n",
      "('average cost for the round ', 10.695365549247473)\n",
      "('average cost for the round ', 11.087089562105856)\n",
      "('average cost for the round ', 8.7700558893806804)\n",
      "('average cost for the round ', 8.8732727295669385)\n",
      "('average cost for the round ', 8.4219965585292034)\n",
      "('average cost for the round ', 7.0728613235200637)\n",
      "('average cost for the round ', 6.905495996992979)\n",
      "('average cost for the round ', 6.9266986587214099)\n",
      "('average cost for the round ', 5.3935979039365183)\n",
      "('average cost for the round ', 4.8169041065454277)\n",
      "('average cost for the round ', 4.9978312583449958)\n",
      "('average cost for the round ', 4.7564214886931744)\n",
      "('average cost for the round ', 3.618500510983008)\n",
      "('average cost for the round ', 3.9338394596748496)\n",
      "('average cost for the round ', 4.7879152046151958)\n",
      "('average cost for the round ', 3.0254560769585312)\n"
     ]
    }
   ],
   "source": [
    "batch_size = 100\n",
    "for i in range(100):\n",
    "    total_batch = int(len(X_train)/batch_size)\n",
    "    avg_cost = 0.0\n",
    "    for bid in range(total_batch):\n",
    "        batch_x = X_train[bid*batch_size:(bid+1)*batch_size]\n",
    "        batch_y = y_train[bid*batch_size:(bid+1)*batch_size]\n",
    "        _,ct = session.run([optimiser,cost],feed_dict={x:batch_x,y:batch_y})\n",
    "        #print(\"Cost . \" , ct)\n",
    "       \n",
    "        avg_cost += ct / total_batch\n",
    "        #print(\"avg cost \", avg_cost)\n",
    "    print(\"average cost for the round \" , avg_cost)\n"
   ]
  },
  {
   "cell_type": "code",
   "execution_count": 48,
   "metadata": {
    "collapsed": true
   },
   "outputs": [],
   "source": [
    "correct_prediction = tf.equal(tf.arg_max(predictions,1),tf.arg_max(y,1))"
   ]
  },
  {
   "cell_type": "code",
   "execution_count": 49,
   "metadata": {
    "collapsed": true
   },
   "outputs": [],
   "source": [
    "accuracy = tf.reduce_mean(tf.cast(correct_prediction,tf.float32))"
   ]
  },
  {
   "cell_type": "code",
   "execution_count": 50,
   "metadata": {},
   "outputs": [
    {
     "name": "stdout",
     "output_type": "stream",
     "text": [
      "0.942569\n"
     ]
    }
   ],
   "source": [
    "print(session.run(accuracy, feed_dict={x:X_test, y:y_test}))"
   ]
  },
  {
   "cell_type": "code",
   "execution_count": 51,
   "metadata": {
    "collapsed": true
   },
   "outputs": [],
   "source": [
    "test_data = pd.read_csv(\"test.csv\")\n",
    "Xtest = test_data.as_matrix()"
   ]
  },
  {
   "cell_type": "code",
   "execution_count": 52,
   "metadata": {
    "collapsed": true
   },
   "outputs": [],
   "source": [
    "test_pred = session.run(predictions,feed_dict={x:Xtest})"
   ]
  },
  {
   "cell_type": "code",
   "execution_count": 53,
   "metadata": {
    "collapsed": true
   },
   "outputs": [],
   "source": [
    "outValue = session.run(tf.arg_max(test_pred,1))"
   ]
  },
  {
   "cell_type": "code",
   "execution_count": 54,
   "metadata": {},
   "outputs": [
    {
     "data": {
      "text/plain": [
       "array([2, 0, 5, ..., 3, 9, 2])"
      ]
     },
     "execution_count": 54,
     "metadata": {},
     "output_type": "execute_result"
    }
   ],
   "source": [
    "outValue"
   ]
  },
  {
   "cell_type": "code",
   "execution_count": 55,
   "metadata": {
    "collapsed": true
   },
   "outputs": [],
   "source": [
    "output = pd.DataFrame(outValue, columns=[\"Label\"],index=range(1,28001))\n",
    "output.index.names = ['ImageId']\n",
    "output.to_csv('output.csv')"
   ]
  },
  {
   "cell_type": "code",
   "execution_count": null,
   "metadata": {
    "collapsed": true
   },
   "outputs": [],
   "source": []
  }
 ],
 "metadata": {
  "kernelspec": {
   "display_name": "Python 3",
   "language": "python",
   "name": "python3"
  },
  "language_info": {
   "codemirror_mode": {
    "name": "ipython",
    "version": 3
   },
   "file_extension": ".py",
   "mimetype": "text/x-python",
   "name": "python",
   "nbconvert_exporter": "python",
   "pygments_lexer": "ipython3",
   "version": "3.6.1"
  }
 },
 "nbformat": 4,
 "nbformat_minor": 2
}
